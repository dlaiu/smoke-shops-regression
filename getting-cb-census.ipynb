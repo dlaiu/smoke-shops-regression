{
 "cells": [
  {
   "cell_type": "code",
   "execution_count": 11,
   "metadata": {},
   "outputs": [],
   "source": [
    "# Importing necessary libraries\n",
    "import pandas as pd\n",
    "import requests\n",
    "import json\n",
    "from time import sleep"
   ]
  },
  {
   "cell_type": "code",
   "execution_count": 20,
   "metadata": {},
   "outputs": [],
   "source": [
    "# Function to make an HTTP GET request to the Census Reporter API\n",
    "def get_census_data(url):\n",
    "    response = requests.get(url)\n",
    "    if response.status_code == 200:\n",
    "        return json.loads(response.text)\n",
    "    else:\n",
    "        return f\"Failed to retrieve data: {response.status_code}\""
   ]
  },
  {
   "cell_type": "code",
   "execution_count": 49,
   "metadata": {},
   "outputs": [],
   "source": [
    "# Example usage of the function\n",
    "url = \"https://api.censusreporter.org/1.0/data/show/latest?table_ids=B25002&geo_ids=79500US3604103\"\n",
    "census_data = get_census_data(url)"
   ]
  },
  {
   "cell_type": "code",
   "execution_count": 50,
   "metadata": {},
   "outputs": [
    {
     "name": "stdout",
     "output_type": "stream",
     "text": [
      "{'data': {'79500US3604103': {'B25002': {'error': {'B25002001': 4408.0, 'B25002002': 4448.0, 'B25002003': 2424.0}, 'estimate': {'B25002001': 81731.0, 'B25002002': 73474.0, 'B25002003': 8257.0}}}}, 'geography': {'79500US3604103': {'name': 'NYC-Manhattan Community District 3--Lower East Side & Chinatown PUMA, NY'}}, 'release': {'id': 'acs2022_1yr', 'name': 'ACS 2022 1-year', 'years': '2022'}, 'tables': {'B25002': {'columns': {'B25002001': {'indent': 0, 'name': 'Total:'}, 'B25002002': {'indent': 1, 'name': 'Occupied'}, 'B25002003': {'indent': 1, 'name': 'Vacant'}}, 'denominator_column_id': 'B25002001', 'title': 'Occupancy Status', 'universe': 'Housing units'}}}\n"
     ]
    }
   ],
   "source": [
    "# Display the retrieved data\n",
    "print(census_data)"
   ]
  },
  {
   "cell_type": "code",
   "execution_count": 33,
   "metadata": {},
   "outputs": [
    {
     "data": {
      "text/html": [
       "<div>\n",
       "<style scoped>\n",
       "    .dataframe tbody tr th:only-of-type {\n",
       "        vertical-align: middle;\n",
       "    }\n",
       "\n",
       "    .dataframe tbody tr th {\n",
       "        vertical-align: top;\n",
       "    }\n",
       "\n",
       "    .dataframe thead th {\n",
       "        text-align: right;\n",
       "    }\n",
       "</style>\n",
       "<table border=\"1\" class=\"dataframe\">\n",
       "  <thead>\n",
       "    <tr style=\"text-align: right;\">\n",
       "      <th></th>\n",
       "      <th>geoid</th>\n",
       "      <th>name</th>\n",
       "    </tr>\n",
       "  </thead>\n",
       "  <tbody>\n",
       "    <tr>\n",
       "      <th>0</th>\n",
       "      <td>79500US3604103</td>\n",
       "      <td>NYC-Manhattan Community District 3--Lower East...</td>\n",
       "    </tr>\n",
       "    <tr>\n",
       "      <th>1</th>\n",
       "      <td>79500US3604104</td>\n",
       "      <td>NYC-Manhattan Community District 4--Chelsea &amp; ...</td>\n",
       "    </tr>\n",
       "    <tr>\n",
       "      <th>2</th>\n",
       "      <td>79500US3604107</td>\n",
       "      <td>NYC-Manhattan Community District 7--Upper West...</td>\n",
       "    </tr>\n",
       "    <tr>\n",
       "      <th>3</th>\n",
       "      <td>79500US3604108</td>\n",
       "      <td>NYC-Manhattan Community District 8--Upper East...</td>\n",
       "    </tr>\n",
       "    <tr>\n",
       "      <th>4</th>\n",
       "      <td>79500US3604109</td>\n",
       "      <td>NYC-Manhattan Community District 9--Morningsid...</td>\n",
       "    </tr>\n",
       "  </tbody>\n",
       "</table>\n",
       "</div>"
      ],
      "text/plain": [
       "            geoid name                                               \n",
       "0  79500US3604103  NYC-Manhattan Community District 3--Lower East... \n",
       "1  79500US3604104  NYC-Manhattan Community District 4--Chelsea & ... \n",
       "2  79500US3604107  NYC-Manhattan Community District 7--Upper West... \n",
       "3  79500US3604108  NYC-Manhattan Community District 8--Upper East... \n",
       "4  79500US3604109  NYC-Manhattan Community District 9--Morningsid... "
      ]
     },
     "execution_count": 33,
     "metadata": {},
     "output_type": "execute_result"
    }
   ],
   "source": [
    "# Open nyc_pumas.csv as a df\n",
    "nyc_pumas = pd.read_csv('nyc_pumas.csv')\n",
    "nyc_pumas['geoid'] = nyc_pumas['geoid'].str.strip()\n",
    "nyc_pumas.head()"
   ]
  },
  {
   "cell_type": "code",
   "execution_count": 35,
   "metadata": {},
   "outputs": [],
   "source": [
    "black_population = []\n",
    "for geoid in nyc_pumas['geoid']:\n",
    "    url = f\"https://api.censusreporter.org/1.0/data/show/latest?table_ids=B02009&geo_ids={geoid}\"\n",
    "    census_data = get_census_data(url)\n",
    "    if census_data and 'data' in census_data and geoid in census_data['data']:\n",
    "        black_population.append(census_data['data'][geoid]['B02009']['estimate']['B02009001'])\n",
    "    else:\n",
    "        black_population.append(None) "
   ]
  },
  {
   "cell_type": "code",
   "execution_count": 37,
   "metadata": {},
   "outputs": [],
   "source": [
    "# Add the black population to the nyc_pumas dataframe\n",
    "nyc_pumas['black_population'] = black_population"
   ]
  },
  {
   "cell_type": "code",
   "execution_count": 41,
   "metadata": {},
   "outputs": [],
   "source": [
    "asian_population = []\n",
    "for geoid in nyc_pumas['geoid']:\n",
    "    url = f\"https://api.censusreporter.org/1.0/data/show/latest?table_ids=B02011&geo_ids={geoid}\"\n",
    "    census_data = get_census_data(url)\n",
    "    if census_data and 'data' in census_data and geoid in census_data['data']:\n",
    "        asian_population.append(census_data['data'][geoid]['B02011']['estimate']['B02011001'])\n",
    "    else:\n",
    "        asian_population.append(None) "
   ]
  },
  {
   "cell_type": "code",
   "execution_count": 42,
   "metadata": {},
   "outputs": [],
   "source": [
    "# Add the asian population to the nyc_pumas dataframe\n",
    "nyc_pumas['asian_population'] = asian_population"
   ]
  },
  {
   "cell_type": "code",
   "execution_count": 45,
   "metadata": {},
   "outputs": [],
   "source": [
    "hispanic_population = []\n",
    "for geoid in nyc_pumas['geoid']:\n",
    "    url = f\"https://api.censusreporter.org/1.0/data/show/latest?table_ids=B03003&geo_ids={geoid}\"\n",
    "    census_data = get_census_data(url)\n",
    "    if census_data and 'data' in census_data and geoid in census_data['data']:\n",
    "        hispanic_population.append(census_data['data'][geoid]['B03003']['estimate']['B03003003'])\n",
    "    else:\n",
    "        hispanic_population.append(None) "
   ]
  },
  {
   "cell_type": "code",
   "execution_count": 46,
   "metadata": {},
   "outputs": [],
   "source": [
    "# Add the hispanic population to the nyc_pumas dataframe\n",
    "nyc_pumas['hispanic_population'] = hispanic_population"
   ]
  },
  {
   "cell_type": "code",
   "execution_count": 52,
   "metadata": {},
   "outputs": [],
   "source": [
    "occupied_unit = []\n",
    "for geoid in nyc_pumas['geoid']:\n",
    "    url = f\"https://api.censusreporter.org/1.0/data/show/latest?table_ids=B25002&geo_ids={geoid}\"\n",
    "    census_data = get_census_data(url)\n",
    "    if census_data and 'data' in census_data and geoid in census_data['data']:\n",
    "        occupied_unit.append(census_data['data'][geoid]['B25002']['estimate']['B25002002'])\n",
    "    else:\n",
    "        occupied_unit.append(None) "
   ]
  },
  {
   "cell_type": "code",
   "execution_count": 53,
   "metadata": {},
   "outputs": [],
   "source": [
    "# Add the occupied unit to the nyc_pumas dataframe\n",
    "nyc_pumas['occupied_unit'] = occupied_unit"
   ]
  },
  {
   "cell_type": "code",
   "execution_count": 54,
   "metadata": {},
   "outputs": [],
   "source": [
    "vacant_unit = []\n",
    "for geoid in nyc_pumas['geoid']:\n",
    "    url = f\"https://api.censusreporter.org/1.0/data/show/latest?table_ids=B25002&geo_ids={geoid}\"\n",
    "    census_data = get_census_data(url)\n",
    "    if census_data and 'data' in census_data and geoid in census_data['data']:\n",
    "        vacant_unit.append(census_data['data'][geoid]['B25002']['estimate']['B25002003'])\n",
    "    else:\n",
    "        vacant_unit.append(None) "
   ]
  },
  {
   "cell_type": "code",
   "execution_count": 55,
   "metadata": {},
   "outputs": [],
   "source": [
    "# Add the vacant unit to the nyc_pumas dataframe\n",
    "nyc_pumas['vacant_unit'] = vacant_unit"
   ]
  },
  {
   "cell_type": "code",
   "execution_count": 56,
   "metadata": {},
   "outputs": [],
   "source": [
    "owner = []\n",
    "for geoid in nyc_pumas['geoid']:\n",
    "    url = f\"https://api.censusreporter.org/1.0/data/show/latest?table_ids=B25003&geo_ids={geoid}\"\n",
    "    census_data = get_census_data(url)\n",
    "    if census_data and 'data' in census_data and geoid in census_data['data']:\n",
    "        owner.append(census_data['data'][geoid]['B25003']['estimate']['B25003002'])\n",
    "    else:\n",
    "        owner.append(None) "
   ]
  },
  {
   "cell_type": "code",
   "execution_count": 57,
   "metadata": {},
   "outputs": [],
   "source": [
    "# Add the owner to the nyc_pumas dataframe\n",
    "nyc_pumas['owner'] = owner"
   ]
  },
  {
   "cell_type": "code",
   "execution_count": 58,
   "metadata": {},
   "outputs": [],
   "source": [
    "renter = []\n",
    "for geoid in nyc_pumas['geoid']:\n",
    "    url = f\"https://api.censusreporter.org/1.0/data/show/latest?table_ids=B25003&geo_ids={geoid}\"\n",
    "    census_data = get_census_data(url)\n",
    "    if census_data and 'data' in census_data and geoid in census_data['data']:\n",
    "        renter.append(census_data['data'][geoid]['B25003']['estimate']['B25003003'])\n",
    "    else:\n",
    "        renter.append(None) "
   ]
  },
  {
   "cell_type": "code",
   "execution_count": 59,
   "metadata": {},
   "outputs": [],
   "source": [
    "# Add the renter to the nyc_pumas dataframe\n",
    "nyc_pumas['renter'] = renter"
   ]
  },
  {
   "cell_type": "code",
   "execution_count": 60,
   "metadata": {},
   "outputs": [],
   "source": [
    "# Add a new column which is vacant to occupied ratio\n",
    "nyc_pumas['vacant_occupied_ratio'] = nyc_pumas['vacant_unit'] / nyc_pumas['occupied_unit']"
   ]
  },
  {
   "cell_type": "code",
   "execution_count": 61,
   "metadata": {},
   "outputs": [],
   "source": [
    "# Add a new column which is owner to renter ratio\n",
    "nyc_pumas['owner_renter_ratio'] = nyc_pumas['owner'] / nyc_pumas['renter']"
   ]
  },
  {
   "cell_type": "code",
   "execution_count": 62,
   "metadata": {},
   "outputs": [],
   "source": [
    "# Save the updated dataframe to a new CSV file\n",
    "nyc_pumas.to_csv('nyc_pumas_updated.csv', index=False)"
   ]
  }
 ],
 "metadata": {
  "kernelspec": {
   "display_name": "Python 3",
   "language": "python",
   "name": "python3"
  },
  "language_info": {
   "codemirror_mode": {
    "name": "ipython",
    "version": 3
   },
   "file_extension": ".py",
   "mimetype": "text/x-python",
   "name": "python",
   "nbconvert_exporter": "python",
   "pygments_lexer": "ipython3",
   "version": "3.11.6"
  }
 },
 "nbformat": 4,
 "nbformat_minor": 2
}
